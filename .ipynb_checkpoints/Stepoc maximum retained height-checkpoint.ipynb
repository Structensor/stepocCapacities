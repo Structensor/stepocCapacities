{
 "cells": [
  {
   "cell_type": "markdown",
   "metadata": {
    "collapsed": true,
    "pycharm": {
     "name": "#%% md\n"
    }
   },
   "source": [
    "# Introduction\n",
    "\n",
    "The calculations assess the maximum retained height that can typically be attained using the various Stepoc block types.  In assessing the maximum height the calculations consider:\n",
    "\n",
    "- The maximum height to satisfy serviceability limit state accounting for the lateral yield of the wall\n",
    "- The maximum height to satisfy ultimate limit state based on a set of assumed soil parameters accounting for bending and shear\n",
    "\n",
    "These calculations are for demonstration purposes only in establishing the maximum retained height. The acutal maximum retained height will depend on the actual soil and ground water condition, the magnitude of the surcharge and the geometry of the retained soil.\n",
    "\n",
    "The calculations follow the principles of BS EN 1990.\n",
    "\n",
    "## Ultimate limit state soil parameters assumed\n",
    "\n",
    "- The Worst credible bulk unit weight of the soil $\\gamma_b = 20 kN/m^3$\n",
    "- Drain conditions for the soil with the design parameters $C' = 0$ and $\\phi '= 32^{\\circ}$\n",
    "- An angle of wall friction $\\delta = 20^{\\circ}$ with a horizontal retained surface\n",
    "- A nominal surcharge of $5kN/m^2$\n",
    "\n",
    "Due to nominal yielding of the wall it will be assumed that full active conditions exist in the soil block behind the wall with a Rankine pressure distribution.\n",
    "\n",
    "## Analysis of the wall section\n",
    "\n",
    "The maximum bendding moment will be calculated using the derived equation in the Structensor repot *'A Proposal for Establishing the Maximum Bending Capacity of Stepoc'*. The calculation of ULS shear capacity is based on the recommendations within BS EN 1996-1-1 Annex J. The SLS state in this report is assumed complied with by limiting the span to effective depth ratio of the reinforced section to the limits presented in BS EN 1996-1-1 Table 5.2.\n",
    "\n",
    "## Stepoc units considered\n",
    "\n",
    "- Stepoc 200 with a wall thickness of 35mm and a 12mm diameter horizontal rebar central\n",
    "- Stepoc 256 with a wall thickness of 39mm and a horizontal bar 152mm from the compressive face\n",
    "- Stepoc 325 with a wall thickness of 39mm and a horizontal bar 186mm from the compressive face\n",
    "\n",
    "In all cases, for the purposes of calculating the effective depth, a vertical rebar of 16mm diameter is assumed.\n",
    "\n",
    "# SLS Calculations\n",
    "\n",
    "Table 5.2 of BS EN 1996-1-1 places a limit of 18 on cantilevered reinforced masonry elements subject to out of plane bending. This limit leads to the following maximum heights for the stem of the retaining wall from the top of the supporting foundation:"
   ]
  },
  {
   "cell_type": "code",
   "execution_count": 5,
   "outputs": [
    {
     "name": "stdout",
     "output_type": "stream",
     "text": [
      "Max SLS Stem height for  Stepoc 200  = 1800.00\n",
      "Max SLS Stem height for  Stepoc 256  = 2736.00\n",
      "Max SLS Stem height for  Stepoc 325  = 3348.00\n"
     ]
    }
   ],
   "source": [
    "names = ['Stepoc 200', 'Stepoc 256', 'Stepoc 325']\n",
    "stepocd = [200/2, 152, 186]\n",
    "max_sls_height = []\n",
    "for i in range(len(stepocd)):\n",
    "    h = 18 * stepocd[i]\n",
    "    max_sls_height.append(h)\n",
    "    print('Max SLS Stem height for ', names[i], ' = {:.2f}'.format(h))"
   ],
   "metadata": {
    "collapsed": false,
    "pycharm": {
     "name": "#%%\n"
    }
   }
  },
  {
   "cell_type": "markdown",
   "source": [
    "# ULS Calculations\n",
    "## Bending\n",
    "The maximum bending capacity of Stepoc in the Structensor report is given by:\n",
    "\n",
    "\\begin{align}\n",
    "M_{Rd} = b f_{md} \\left(x_s (d - \\frac{x_s}{2}) +  \\alpha (x-x_s) (d - \\frac{(x + x_s)}{2})\\right)\n",
    "\\end{align}\n",
    "\n",
    "Where to limit the depth of the compressive stress block the the following is assumed:\n",
    "\n",
    "\\begin{align}\n",
    "x=d(1-\\sqrt{0.20})\n",
    "\\end{align}\n",
    "\n",
    "The value of the modular ratio is assumed to be $\\alpha = 3$. The following functions provides the maximum moment capacity of the sections:"
   ],
   "metadata": {
    "collapsed": false,
    "pycharm": {
     "name": "#%% md\n"
    }
   }
  },
  {
   "cell_type": "code",
   "execution_count": 41,
   "outputs": [
    {
     "data": {
      "text/plain": "       d  xs        x     Mcap\n0  100.0  35   55.279   61.752\n1  152.0  39   84.024  172.507\n2  186.0  39  102.818  283.000",
      "text/html": "<div>\n<style scoped>\n    .dataframe tbody tr th:only-of-type {\n        vertical-align: middle;\n    }\n\n    .dataframe tbody tr th {\n        vertical-align: top;\n    }\n\n    .dataframe thead th {\n        text-align: right;\n    }\n</style>\n<table border=\"1\" class=\"dataframe\">\n  <thead>\n    <tr style=\"text-align: right;\">\n      <th></th>\n      <th>d</th>\n      <th>xs</th>\n      <th>x</th>\n      <th>Mcap</th>\n    </tr>\n  </thead>\n  <tbody>\n    <tr>\n      <th>0</th>\n      <td>100.0</td>\n      <td>35</td>\n      <td>55.279</td>\n      <td>61.752</td>\n    </tr>\n    <tr>\n      <th>1</th>\n      <td>152.0</td>\n      <td>39</td>\n      <td>84.024</td>\n      <td>172.507</td>\n    </tr>\n    <tr>\n      <th>2</th>\n      <td>186.0</td>\n      <td>39</td>\n      <td>102.818</td>\n      <td>283.000</td>\n    </tr>\n  </tbody>\n</table>\n</div>"
     },
     "metadata": {},
     "output_type": "display_data"
    }
   ],
   "source": [
    "import pandas as pd\n",
    "pd.set_option('precision', 3)\n",
    "import math\n",
    "xs = [35, 39, 39]\n",
    "''' Set up data structure'''\n",
    "moment_cap_data = pd.DataFrame({'d':stepocd, 'xs':xs})\n",
    "\n",
    "''' Calculate the value of x'''\n",
    "moment_cap_data['x'] = moment_cap_data['d'] * (1 - math.sqrt(0.20))\n",
    "\n",
    "''' Calculate the moment capacity'''\n",
    "a = 3\n",
    "b = 1000\n",
    "fmd = 9.92\n",
    "\n",
    "moment_cap_data['Mcap'] = ((moment_cap_data['xs']*(moment_cap_data['d'] - moment_cap_data['xs']/2)\n",
    "+ a * (moment_cap_data['x'] - moment_cap_data['xs']) * (moment_cap_data['d'] - (moment_cap_data['x'] + moment_cap_data['xs'])/2))\n",
    "*b*fmd *10**-6)\n",
    "\n",
    "display(moment_cap_data)"
   ],
   "metadata": {
    "collapsed": false,
    "pycharm": {
     "name": "#%%\n"
    }
   }
  },
  {
   "cell_type": "markdown",
   "source": [
    "## Shear\n",
    "Within these calculations $\\gamma_M$ for masonry is taken to be 2.0.\n",
    "\n",
    "Annex J in BS EN 1996-1-1 provides the following equation for the shear strength of the section:\n",
    "\n",
    "\\begin{align}\n",
    "f_{vd} = \\frac{0.35 + 17.5 \\rho}{\\gamma_M}\n",
    "\\\\\\rho = \\frac{A_s}{bd}\n",
    "\\end{align}\n",
    "\n",
    "Providing that $f_{vd}$ is not taken to be greater than $\\frac{0.70}{\\gamma_M}$.\n",
    "\n",
    "$f_{vd}$ may be enhanced by the following factor:\n",
    "\n",
    "\\begin{align}\n",
    "\\chi = (2.5 - 0.25 \\frac{a_v}{d})\n",
    "\\end{align}\n",
    "\n",
    "Where $a_v$ is the shear span of the section (max bending moment / max shear force in the section). \n",
    "\n",
    "In order to use the above equation an area of steel needs to be established. This can be achieved by using by provding equalibrium of the section with the following equations for the force in the compressive stress blocks:\n",
    "\n",
    "\\begin{align}\n",
    "\\text{In the masonry: } \n",
    "F_m = \\frac{b x_s f_{md}}{\\gamma_{Mm}}\\\\\n",
    "\\text{In the concrete: }\n",
    "F_c = \\frac{b (x - x_s)f_{cd}}{\\gamma_{Mc}}\\\\\n",
    "\\text{In total: } F_t = F_m + F_c\n",
    "\\end{align}\n",
    "\n",
    "From this we can conclude that $A_s f_y / \\gamma_M = F_t$ to give $A_s = F_t / (0.87 f_y)$.\n",
    "\n",
    "These calculations can be added to the data set:"
   ],
   "metadata": {
    "collapsed": false,
    "pycharm": {
     "name": "#%% md\n"
    }
   }
  },
  {
   "cell_type": "code",
   "execution_count": 47,
   "outputs": [
    {
     "data": {
      "text/plain": "       d  xs        x     Mcap      Fm        Fc        Ft        As      p  \\\n0  100.0  35   55.279   61.752  173.60   402.328   575.928  1323.973  0.013   \n1  152.0  39   84.024  172.507  193.44   893.267  1086.707  2498.177  0.016   \n2  186.0  39  102.818  283.000  193.44  1266.155  1459.595  3355.390  0.018   \n\n     fvd  fvdmax  \n0  0.466    0.35  \n1  0.494    0.35  \n2  0.508    0.35  ",
      "text/html": "<div>\n<style scoped>\n    .dataframe tbody tr th:only-of-type {\n        vertical-align: middle;\n    }\n\n    .dataframe tbody tr th {\n        vertical-align: top;\n    }\n\n    .dataframe thead th {\n        text-align: right;\n    }\n</style>\n<table border=\"1\" class=\"dataframe\">\n  <thead>\n    <tr style=\"text-align: right;\">\n      <th></th>\n      <th>d</th>\n      <th>xs</th>\n      <th>x</th>\n      <th>Mcap</th>\n      <th>Fm</th>\n      <th>Fc</th>\n      <th>Ft</th>\n      <th>As</th>\n      <th>p</th>\n      <th>fvd</th>\n      <th>fvdmax</th>\n    </tr>\n  </thead>\n  <tbody>\n    <tr>\n      <th>0</th>\n      <td>100.0</td>\n      <td>35</td>\n      <td>55.279</td>\n      <td>61.752</td>\n      <td>173.60</td>\n      <td>402.328</td>\n      <td>575.928</td>\n      <td>1323.973</td>\n      <td>0.013</td>\n      <td>0.466</td>\n      <td>0.35</td>\n    </tr>\n    <tr>\n      <th>1</th>\n      <td>152.0</td>\n      <td>39</td>\n      <td>84.024</td>\n      <td>172.507</td>\n      <td>193.44</td>\n      <td>893.267</td>\n      <td>1086.707</td>\n      <td>2498.177</td>\n      <td>0.016</td>\n      <td>0.494</td>\n      <td>0.35</td>\n    </tr>\n    <tr>\n      <th>2</th>\n      <td>186.0</td>\n      <td>39</td>\n      <td>102.818</td>\n      <td>283.000</td>\n      <td>193.44</td>\n      <td>1266.155</td>\n      <td>1459.595</td>\n      <td>3355.390</td>\n      <td>0.018</td>\n      <td>0.508</td>\n      <td>0.35</td>\n    </tr>\n  </tbody>\n</table>\n</div>"
     },
     "metadata": {},
     "output_type": "display_data"
    }
   ],
   "source": [
    "moment_cap_data['Fm'] = b * moment_cap_data['xs'] * fmd * 10**-3 / 2\n",
    "moment_cap_data['Fc'] = b * (moment_cap_data['x'] - moment_cap_data['xs']) * a * fmd * 10**-3 / 1.5\n",
    "moment_cap_data['Ft'] = (moment_cap_data['Fm']+moment_cap_data['Fc'])\n",
    "moment_cap_data['As'] = moment_cap_data['Ft'] * 10**3 / (0.87 * 500)\n",
    "moment_cap_data['p'] = moment_cap_data['As'] / (b * moment_cap_data['d'])\n",
    "moment_cap_data['fvd'] = (0.35 + 17.5 * moment_cap_data.p / 2)\n",
    "moment_cap_data['fvdmax'] = 0.70 / 2\n",
    "display(moment_cap_data)"
   ],
   "metadata": {
    "collapsed": false,
    "pycharm": {
     "name": "#%%\n"
    }
   }
  },
  {
   "cell_type": "markdown",
   "source": [
    "We can conclude from the above that it is possible to provide sufficient reinforcement to balance the limited compressive stress block such that the maximum limit of $f_{vd}$ may be used in maximum value calculations."
   ],
   "metadata": {
    "collapsed": false,
    "pycharm": {
     "name": "#%% md\n"
    }
   }
  }
 ],
 "metadata": {
  "kernelspec": {
   "display_name": "Python 3",
   "language": "python",
   "name": "python3"
  },
  "language_info": {
   "codemirror_mode": {
    "name": "ipython",
    "version": 2
   },
   "file_extension": ".py",
   "mimetype": "text/x-python",
   "name": "python",
   "nbconvert_exporter": "python",
   "pygments_lexer": "ipython2",
   "version": "2.7.6"
  }
 },
 "nbformat": 4,
 "nbformat_minor": 0
}