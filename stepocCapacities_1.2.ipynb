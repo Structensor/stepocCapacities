{
 "cells": [
  {
   "cell_type": "markdown",
   "metadata": {},
   "source": [
    "# Introduction\n",
    "\n",
    "## Background\n",
    "\n",
    "Stepoc has traditionally been designed as a reinforced masonry element in bending. Early compression testing of Stepoc provided results for the characteristic compressive strength of the masonry ($f_k$) of circa 18 MPa. Therefore over decades Stepoc has been designed using this figure when deriving the maximum moment capacity of the section and the lever arm ($z$) when determining reinforcement quantities below this maximum. \n",
    "\n",
    "In March 2020 Lucideon undertook compressive strength testing under instruction from Anderton Concrete. The report published is referenced (196661) (QT-57177/1/JB)/Ref. 1. From this report a number of salient points are to be noted:\n",
    "\n",
    "- 256 Stepoc $f_k$ = 9.92 MPa\n",
    "- 325 Stepoc $f_k$ = 9.37 MPa\n",
    "- Failure was deemed to be at the limit of the machine\n",
    "\n",
    "In testing Stepoc with such procedures it is difficult to get truly meaningful results due to the following factors:\n",
    "\n",
    "- The stress distribution between the concrete core and the masonry shell is dependent on the stiffness of each\n",
    "- The stress distribution between the core and the shell is dependent upon the clean and even application of load\n",
    "- Due to the size of the section and the high strength of concrete the capacity of the machine is easily reached (2000kN)\n",
    "\n",
    "To truly test to failure it is possible that the applied force over a meter of wall would need to be in excess of 6000kN. \n",
    "\n",
    "In the design of Stepoc it has been traditionally assumed that the section of the wall within the compressive stress block is of a uniform material. This is a simplistic assumption but one that functioned well when the reported $f_k$ was in the region of 18MPa. However, BS EN 1996-1-1 places a limited on the moment capacity of the section with the following equation.\n",
    "\n",
    "\\begin{align} \n",
    "M_{Rd} \\leq 0.40 f_d b d^2\\label{cap1}\\\\\n",
    "\\end{align}\n",
    "\n",
    "It can therefore be seen that a reduction in the published $f_k$ for Stepoc results in an artificial (based on historic performance of structures constructed from Stepoc) limit on the bending capacity of the section. By way of example for 256mm Stepoc using equation \\ref{cap1}"
   ]
  },
  {
   "cell_type": "code",
   "execution_count": 18,
   "metadata": {},
   "outputs": [
    {
     "name": "stdout",
     "output_type": "stream",
     "text": [
      "Old fk value for Stepoc = 18.00MPa with d = 135mm and a partial factor of 2 gives a moment capacity of 65.61kNm\n",
      "New fk value for Stepoc = 9.92MPa with d = 135mm and a partial factor of 2 gives a moment capacity of 36.16kNm\n",
      "The reduction in capacity = 44.89%\n"
     ]
    }
   ],
   "source": [
    "fk1 = 9.92\n",
    "fk2 = 18\n",
    "d = 135\n",
    "g = 2\n",
    "m1 = 0.40 * fk1 * 1000 * d**2 * 10**-6 / g\n",
    "m2 = 0.40 * fk2 * 1000 * d**2 * 10**-6 / g\n",
    "\n",
    "\n",
    "print('Old fk value for Stepoc = {:.2f}MPa with d = 135mm and a partial factor of \\\n",
    "2 gives a moment capacity of {:.2f}kNm'.format(fk2, m2))\n",
    "print('New fk value for Stepoc = {:.2f}MPa with d = 135mm and a partial factor of \\\n",
    "2 gives a moment capacity of {:.2f}kNm'.format(fk1, m1))\n",
    "\n",
    "reduction = (m2 - m1)/m2 * 100\n",
    "\n",
    "print('The reduction in capacity = {:.2f}%'.format(reduction))\n"
   ]
  },
  {
   "cell_type": "markdown",
   "metadata": {},
   "source": [
    "It can be see from the above statements that this is a significant reduction. Since testing has the difficulties noted above and Anderton Concrete require their new BBA certificate to be published it has been decided to investigated in greater detail the capacity of the section accounting for the difference in capacity between the masonry and the concrete whilst maintaining the new published results for $fk$.\n",
    "\n",
    "The calculations and assessment below explore a more complex approach drawing from structural theory and the basis of BS EN 1996-1-1. "
   ]
  },
  {
   "cell_type": "markdown",
   "metadata": {},
   "source": [
    "## Extraction of a basis from BS EN 1996-1-1\n",
    "\n",
    "BS EN 1996-1-1 limits provides the following conditions relating to the moment capacity of the section wich are in addtion to equation \\ref{cap1}:\n",
    "\n",
    "\\begin{align}\n",
    "M_{Rd} = A_s f_y z\\\\\n",
    "z = d ( 1 - 0.50 \\frac{A_s f_y}{b d f_d}) \\leq 0.95 d\n",
    "\\end{align}\n",
    "\n",
    "Where $M_{Rd}$ is the design moment resistance, $A_s$ is the area of steel reinforcement in tension, $f_y$ is the design strength of the reinforcement, $b$ is the breadth of the section, $d$ is the effecitive depth and $f_d$ is the design strength of the masonry. \n",
    "\n",
    "These equations allow the maximum depth of the compressive stress block (depth to neutral axis) $x$ permitted in the standard to be calculated as a function of the depth assuming a rectangular stress block. Note for the purpose of these calculations $x$ represents $\\lambda x$ in BS EN 1996-1-1; it being acknowledge that the different $x-\\lambda x$ permits the neutral axis to be formed. \n",
    "\n",
    "   \\begin{align}\n",
    "   z = d - \\frac{x}{2}\n",
    "   \\end{align}\n",
    "   \n",
    "Comparing equations \\ref{cap3} and \\ref{z1} it is apparent:\n",
    "\n",
    "   \\begin{align}\n",
    "   x = \\frac{A_s f_y}{b f_d}\n",
    "   \\end{align}\n",
    "   \n",
    "Which is expected to attain equilibrium of the forces in the reinforcement and masonry. Extracting $A_s f_y$ from \\ref{cap2} and apply to \\ref{x1} gives:\n",
    "\n",
    "   \\begin{align}\n",
    "   x = \\frac{M_{Rd}}{z b f_d}\n",
    "   \\end{align}\n",
    "\n",
    "We know from \\ref{cap1} that M_{Rd} is limited constrained. Applying this to \\ref{x2} yields:\n",
    "\n",
    "\\begin{align}\n",
    "x = \\frac{0.40 d^2}{z}\n",
    "\\end{align}\n",
    "\n",
    "Apply \\ref{z1} for $z$ in \\ref{x3} gives:\n",
    "\n",
    "\\begin{align}\n",
    "x(d - \\frac{x}{2}) = 0.40d^2\n",
    "\\end{align}\n",
    "\n",
    "Which forms the quadratic:\n",
    "\\begin{align}\n",
    "x^2 - 2 x d + 0.80 d^2 = 0\n",
    "\\end{align}\n",
    "\n",
    "This quadratic has the viable solution $x = d(1-\\sqrt{0.20})$. This is therefore the implied limit of the compressive stress block in BS EN 1996-1-1 ($\\lambda x$)."
   ]
  },
  {
   "cell_type": "markdown",
   "metadata": {},
   "source": [
    "# Deriviation of capacity accounting for masonry and concrete in the compressive stress block\n",
    "\n",
    "The section shall be analysed with 2 rectangular stress blocks. The combined depth $x$ of which shall not exceed $d(1-\\sqrt{0.20})$ for consistency with BS EN 1996-1-1. Since the outer masonry shell is a rather thin element the following will be assumed in deriving stress distribution:\n",
    "\n",
    "- The strain in the shell is constant across its width effectively forming axial compression (plastic distribution in bending).\n",
    "- For compatibility of strains it will be assumed that the strain at the interface of the concrete and masonry is equal and that this forms a similar plastic distribution. This is to maintain consistency with discussion on BS EN 1996-1-1 above in the theoretic assumption that the concrete and the masonry can have identical properties.\n",
    "- Zero strain exists at a position $x$ from the compressive face forming a quasi plastic neutral axis\n",
    "\n",
    "Let $x_s$ be the depth stress block in the stepoc outer shell and $x_c$ be the depth of the stress block in the concrete core. Let $\\epsilon_{mu}$ be the strain in the masonry shell at the outer face and $\\epsilon_c$ be the strain at the core / shell interface. To convert strain to stress $E_m, E_c$ are the Youngs modulus of elasticity for masonry and concrete respectively and $f_{md}, f_{cd}$ are the design stresses in the masonry and concrete respectively.\n",
    "\n",
    "## Bending moment capacity of the section\n",
    "\n",
    "We note from the above that:\n",
    "\\begin{equation}\n",
    "x = x_s + x_c\n",
    "\\end{equation}\n",
    "\n",
    "From the strain assumptions to be compatible with BS EN 1996-1-1\n",
    "\n",
    "\\begin{align}\n",
    "\\epsilon_{mu} = \\epsilon_c\n",
    "\\end{align}\n",
    "\n",
    "Converting \\ref{s1} to stress:\n",
    "\n",
    "\\begin{align}\n",
    "\\frac{f_{md}}{E_m} = \\frac{f_{cd}}{E_c}\n",
    "\\end{align}\n",
    "\n",
    "Let $\\alpha$ be the modular ratio $\\frac{E_c}{E_m}$ such that from \\ref{s3}:\n",
    "\n",
    "\\begin{align}\n",
    "f_{cd} = f_{md} \\alpha\n",
    "\\end{align}\n"
   ]
  },
  {
   "cell_type": "markdown",
   "metadata": {},
   "source": [
    "Calculate the maximum bending capacity to limit the overall width of the compressive stress block to that within BS EN 1996-1-1 for elements with plain masonry in the compression zone. Let $z_m$ be the lever arm to the masonry stress block from the reinforcement and $z_c$ be that for the concrete.\n",
    "\n",
    "The maximum forces in the concrete and masonry are:\n",
    "\n",
    "\\begin{align}\n",
    "\\text{In the masonry: } \n",
    "F_m = b x_s f_{md}\\\\\n",
    "\\text{In the concrete: }\n",
    "F_c = b (x - x_s)f_{cd}\n",
    "\\end{align}\n",
    "\n",
    "The lever arms to the masonry and concrete compressive stress blocks are:\n",
    "\n",
    "\\begin{align}\n",
    "z_m = d - \\frac{x_s}{2}\\\\\n",
    "z_c = d - \\frac{(x + x_s)}{2}\n",
    "\\end{align}\n",
    "\n",
    "substitute \\ref{s4} into \\ref{m2} to develop capacity in terms of masonry strength\n",
    "\n",
    "\\begin{align}\n",
    "F_c = b \\alpha f_{md} (x-x_s)\n",
    "\\end{align}\n",
    "\n",
    "\n",
    "Calculate the moment capacity of the section by taking the moment of the masonry and concrete compressive stress blocks about the plane of the reinforcement and substituting for x:\n",
    "\n",
    "\\begin{align}\n",
    "M_{Rd} = b x_s f_{md} (d - \\frac{x_s}{2}) + b \\alpha f_{md}(x-x_s)(d - \\frac{(x + x_s)}{2})\n",
    "\\end{align}\n",
    "\n",
    "Simplifying ...\n",
    "\n",
    "\\begin{align}\n",
    "M_{Rd} = b f_{md} \\left(x_s (d - \\frac{x_s}{2}) +  \\alpha (x-x_s) (d - \\frac{(x + x_s)}{2})\\right)\n",
    "\\end{align}\n",
    "\n",
    "Equation \\ref{m7} gives the moment capacity of the section for under a known value of $x$ accounting for the effects of the masonry outer shell and the inner concrete core to the assumed neutral axis.  "
   ]
  },
  {
   "cell_type": "markdown",
   "metadata": {},
   "source": [
    "# Comparison of values for maximum bending capacity of the section\n",
    "\n",
    "To compare results from the above we can compare the maximum moment capacity when $x=d(1-\\sqrt{0.20})$ using \\ref{m7} to that using original values of $f_k$ and \\ref{cap1}.\n",
    "\n",
    "Assume:\n",
    "\n",
    "d = 135mm, b = 1000mm, $f_k$ of original Stepoc = 18MPa & $f_k$ of current = 9.92MPa\n",
    "\n",
    "$x_s$ = 40mm (width of the masonry shell wall), $\\alpha$ = 3 ($E_m$ circa 10000MPa & $E_c$ circa 30000MPa)\n",
    "\n",
    "Note in the below calculations $\\gamma_M$ (partial factor on material strength) has been omitted as it is common to both approaches for the purpose of comparison.\n"
   ]
  },
  {
   "cell_type": "code",
   "execution_count": 5,
   "metadata": {},
   "outputs": [
    {
     "name": "stdout",
     "output_type": "stream",
     "text": [
      "The maximum moment capacity using current test values & new deriviation = 172.51kNm\n",
      "The maximum moment capacity using old test values and simplified approach = 166.35kNm\n"
     ]
    }
   ],
   "source": [
    "xs = 39\n",
    "d = 152\n",
    "x = d * (1 - math.sqrt(0.20))\n",
    "a = 3\n",
    "b = 1000\n",
    "fmd = 9.92\n",
    "fmd_old = 18\n",
    "c1 = xs*(d - xs/2)\n",
    "c2 = a *(x-xs) * (d - (x+xs)/2)\n",
    "c3 = c1 + c2\n",
    "MRd = c3*b*fmd *10**-6\n",
    "print('The maximum moment capacity using current test values & new deriviation = {:.2f}kNm'.format(MRd))\n",
    "\n",
    "MRd_old = 0.40 * b * d**2 * fmd_old * 10**-6\n",
    "print('The maximum moment capacity using old test values and simplified approach = {:.2f}kNm'.format(MRd_old))\n",
    "\n"
   ]
  },
  {
   "cell_type": "markdown",
   "metadata": {},
   "source": [
    "In the condition of maximum value of $x$ one can use the above to attain an 'effective' $f_k$ value based on the published Lucideon results for use in the BS EN 1996-1-1 moment limiting equation:"
   ]
  },
  {
   "cell_type": "code",
   "execution_count": 4,
   "metadata": {},
   "outputs": [
    {
     "name": "stdout",
     "output_type": "stream",
     "text": [
      "Effective fk in maximum x condition for use in BS EN limiting equation = 17.24MPa\n"
     ]
    }
   ],
   "source": [
    "fk_eff = MRd / MRd_old * fmd_old\n",
    "print('Effective fk in maximum x condition for use in BS EN limiting equation = {:.2f}MPa'.format(fk_eff))"
   ]
  },
  {
   "cell_type": "markdown",
   "metadata": {},
   "source": [
    "This result is very similar to the original value and demonstrates that, with modification to the theory behind the derivation of bending capacity of the section to account for both concrete and masonry, the original stepoc capacities can be justified with the new test results."
   ]
  },
  {
   "cell_type": "markdown",
   "metadata": {},
   "source": [
    "# Conclusions\n",
    "\n",
    "The above calculations indicate that the original maximum bending capacity of Stepoc can be justified based on current results with modified theory that deviates from (but is extrapolated), BS EN 1996-1-1.\n",
    "\n",
    "The results of such findings is that if the current Lucideon test results are adopted, it should be possible to justify historic designs in Stepoc using a more complex theoretical approach. \n",
    "\n",
    "The disadvantage for future designs is that such an approach requires engineers to assess the capacity of the section from first principles or adopt the lower $f_k$ values in the conservative equations of BS EN 1996-1-1 (in relation to Stepoc). In adopting these lower values in the conservative equations this report deomonstrates that they impose artificially low limits on the capacity of the Stepoc system. \n",
    "\n",
    "# Recommendations\n",
    "\n",
    "It should be possible to develop design charts adopting the above developed equations (and considering force equilibrium between the compressive stress blocks and the tension in the reinforcement) that will mask the complexity of the calculation from design engineers. This should be investigated. \n",
    "\n",
    "If possible, Section 6 of the draft BBA certificate should be amended to permit other methods of calculation of the moment capacity of the section outside of those listed in BS EN 1996-1-1. "
   ]
  }
 ],
 "metadata": {
  "kernelspec": {
   "display_name": "Python 3",
   "language": "python",
   "name": "python3"
  },
  "language_info": {
   "codemirror_mode": {
    "name": "ipython",
    "version": 3
   },
   "file_extension": ".py",
   "mimetype": "text/x-python",
   "name": "python",
   "nbconvert_exporter": "python",
   "pygments_lexer": "ipython3",
   "version": "3.7.6"
  },
  "latex_envs": {
   "LaTeX_envs_menu_present": true,
   "autoclose": false,
   "autocomplete": true,
   "bibliofile": "biblio.bib",
   "cite_by": "apalike",
   "current_citInitial": 1,
   "eqLabelWithNumbers": true,
   "eqNumInitial": 1,
   "hotkeys": {
    "equation": "Ctrl-E",
    "itemize": "Ctrl-I"
   },
   "labels_anchors": false,
   "latex_user_defs": false,
   "report_style_numbering": false,
   "user_envs_cfg": false
  }
 },
 "nbformat": 4,
 "nbformat_minor": 4
}